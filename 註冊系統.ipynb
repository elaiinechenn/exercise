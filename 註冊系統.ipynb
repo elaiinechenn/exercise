{
  "nbformat": 4,
  "nbformat_minor": 0,
  "metadata": {
    "colab": {
      "name": "註冊系統",
      "provenance": []
    },
    "kernelspec": {
      "name": "python3",
      "display_name": "Python 3"
    }
  },
  "cells": [
    {
      "cell_type": "markdown",
      "metadata": {
        "id": "QLu0dS6p5qIP"
      },
      "source": [
        "# 註冊系統\n",
        "1）註冊開始\n",
        "\n",
        "2）是否結束(Y/N):N\n",
        "\n",
        "3）請輸入學生姓名:小王\n",
        "\n",
        "4）是否結束(Y/N):N\n",
        "\n",
        "5）請輸入學生姓名:小李\n",
        "\n",
        "6）是否結束(Y/N):P\n",
        "\n",
        "7）輸入錯誤請輸入Y/N:Y\n",
        "\n",
        "8）註冊結束\n",
        "\n",
        "9）班級共兩人 名稱為小王小李\n",
        "\n",
        "\n"
      ]
    },
    {
      "cell_type": "code",
      "metadata": {
        "colab": {
          "base_uri": "https://localhost:8080/"
        },
        "id": "RMsRhu5d5pNr",
        "outputId": "f5841268-9204-4396-8cbb-5435183a00df"
      },
      "source": [
        "print(\"註冊開始\")                                             #印出「註冊開始」\n",
        "student=[]\n",
        "while True:                                                  #進入迴圈\n",
        "  question=input(\"是否結束(Y/N):\")                             \n",
        "  if question in [\"N\",\"n\"]:\n",
        "    student_name=input(\"請輸入學生姓名：\")\n",
        "    student.append(student_name)\n",
        "  elif question in[\"Y\",\"y\",\" \"]:\n",
        "    print(\"註冊結束\")\n",
        "    print('班級總人數:',len(student),'，名稱為:',student[:])\n",
        "    break                                                   #跳出迴圈，並印出人數跟姓名\n",
        "    \n",
        "  else:\n",
        "    print('輸入錯誤，請輸入Y/N')\n"
      ],
      "execution_count": null,
      "outputs": [
        {
          "output_type": "stream",
          "text": [
            "註冊開始\n",
            "是否結束(Y/N):N\n",
            "請輸入學生姓名：小王\n",
            "是否結束(Y/N):N\n",
            "請輸入學生姓名：小李\n",
            "是否結束(Y/N):P\n",
            "輸入錯誤，請輸入Y/N\n",
            "是否結束(Y/N):Y\n",
            "註冊結束\n",
            "班級總人數: 2 ，名稱為: ['小王', '小李']\n"
          ],
          "name": "stdout"
        }
      ]
    },
    {
      "cell_type": "markdown",
      "metadata": {
        "id": "8pNiqHbTA6Hv"
      },
      "source": [
        "# 1~100 隨機取10個數字 用for迴圈排序(不能用sort)\n"
      ]
    },
    {
      "cell_type": "code",
      "metadata": {
        "colab": {
          "base_uri": "https://localhost:8080/"
        },
        "id": "F4PjybUh6YEr",
        "outputId": "b369677c-a68e-4823-bfce-c09abbf025f4"
      },
      "source": [
        "import random\n",
        "x=[random.randint(0,100) for _ in range(10)]  #從0~100 隨機選出10個整數\n",
        "print(x)\n",
        "\n",
        "for i in range(len(x)-1):                     #由大到小\n",
        "  for j in range(len(x)-i-1):\n",
        "    if(x[j]<x[j+1]):\n",
        "      x[j],x[j+1] = x[j+1],x[j]\n",
        "print(str(x))"
      ],
      "execution_count": null,
      "outputs": [
        {
          "output_type": "stream",
          "text": [
            "[23, 74, 82, 52, 28, 30, 92, 68, 16, 96]\n",
            "[96, 92, 82, 74, 68, 52, 30, 28, 23, 16]\n"
          ],
          "name": "stdout"
        }
      ]
    },
    {
      "cell_type": "code",
      "metadata": {
        "id": "euG4fRbC7OXG"
      },
      "source": [
        ""
      ],
      "execution_count": null,
      "outputs": []
    }
  ]
}