{
  "nbformat": 4,
  "nbformat_minor": 0,
  "metadata": {
    "colab": {
      "name": "猜數字：幾Ａ幾Ｂ",
      "provenance": []
    },
    "kernelspec": {
      "name": "python3",
      "display_name": "Python 3"
    }
  },
  "cells": [
    {
      "cell_type": "markdown",
      "metadata": {
        "id": "9WEsg2UzCth3"
      },
      "source": [
        "# 回家作業-猜數字：幾Ａ幾Ｂ\n",
        "\n",
        "*   4個數字不重\n",
        "*   for 迴圈\n",
        "*   if else\n"
      ]
    },
    {
      "cell_type": "markdown",
      "metadata": {
        "id": "4w9wrZ26BlR1"
      },
      "source": [
        "請輸入3個數字:223\n",
        "\n",
        "第1次猜測(正解224):目前結果2A0B\n",
        "\n",
        "請輸入3個數字:2254\n",
        "\n",
        "輸入錯誤請輸入3個數字\n",
        "\n",
        "請輸入3個數字:225\n",
        "\n",
        "第2次猜測(正解224):目前結果2A0B\n",
        "\n",
        "請輸入3個數字:224\n",
        "\n",
        "恭喜通關答案:224\n",
        "\n",
        "是否再玩一輪(Y/N):Y"
      ]
    },
    {
      "cell_type": "code",
      "metadata": {
        "id": "5nf2J0FECwy1"
      },
      "source": [
        "# import random"
      ],
      "execution_count": null,
      "outputs": []
    },
    {
      "cell_type": "code",
      "metadata": {
        "id": "G97N7wlECrkM",
        "colab": {
          "base_uri": "https://localhost:8080/"
        },
        "outputId": "e9f6edfd-a939-449d-bf7e-a82345954f3b"
      },
      "source": [
        "# x = input(\"input an number:\")\n",
        "import random\n",
        "count = 0\n",
        "digit = ('0123456789')\n",
        "# ans = ''.join(random.sample(digit, 4))\n",
        "ans = random.sample(digit, 4)\n",
        "print(ans)\n",
        "guess = ''\n",
        "print(\"*\" * 5 + \"猜數字遊戲\" + \"*\" * 5)\n",
        "while 1:\n",
        "    count += 1\n",
        "    a, b = 0, 0 # 0A0B\n",
        "    while 1:\n",
        "        # word = raw_input(\"請輸入一個4位數數字:\")\n",
        "        guess = input(\"請輸入一個4位數數字:\")\n",
        "        if len(guess) == 4:\n",
        "            break\n",
        "        else:\n",
        "            print(\"輸入錯誤！請重新輸入!\")\n",
        "    for i in range(4):\n",
        "        if guess[i] == ans[i]:\n",
        "            a += 1\n",
        "        elif guess[i] in ans:\n",
        "            b += 1\n",
        "    print(\"%sA%sB\" % (a, b))\n",
        "    if guess == ans:\n",
        "      print(\"你答對了，總共輸入了%s次\" % count)\n",
        "      break"
      ],
      "execution_count": null,
      "outputs": [
        {
          "output_type": "stream",
          "text": [
            "['1', '6', '4', '7']\n",
            "*****猜數字遊戲*****\n",
            "請輸入一個4位數數字:1647\n",
            "4A0B\n"
          ],
          "name": "stdout"
        }
      ]
    },
    {
      "cell_type": "code",
      "metadata": {
        "id": "2NDZhqx-C5-4"
      },
      "source": [
        ""
      ],
      "execution_count": null,
      "outputs": []
    },
    {
      "cell_type": "code",
      "metadata": {
        "id": "T4H3WL3sM8us"
      },
      "source": [
        ""
      ],
      "execution_count": null,
      "outputs": []
    }
  ]
}